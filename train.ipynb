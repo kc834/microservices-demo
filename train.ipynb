{
 "cells": [
  {
   "cell_type": "code",
   "execution_count": 1,
   "metadata": {
    "colab": {
     "base_uri": "https://localhost:8080/",
     "height": 124
    },
    "colab_type": "code",
    "id": "VJflEDqC_8Cr",
    "outputId": "29343502-2505-45b9-dbfe-a695f25bc5f3"
   },
   "outputs": [],
   "source": [
    "# from google.colab import drive\n",
    "# drive.mount( '/content/drive/' )"
   ]
  },
  {
   "cell_type": "code",
   "execution_count": 14,
   "metadata": {
    "colab": {},
    "colab_type": "code",
    "id": "0DXWHOd6_ysp"
   },
   "outputs": [],
   "source": [
    "import time\n",
    "import io\n",
    "import matplotlib.pyplot as plt\n",
    "import numpy as np\n",
    "import math \n",
    "import pandas as pd\n",
    "import pickle\n",
    "from sklearn.kernel_approximation import RBFSampler\n",
    "from sklearn.linear_model import LogisticRegression\n",
    "from sklearn.linear_model import SGDClassifier\n",
    "from sklearn.svm import SVC\n",
    "from sklearn.model_selection import train_test_split\n",
    "from sklearn.preprocessing import StandardScaler\n",
    "from sklearn.utils import check_random_state\n",
    "from sklearn.metrics import confusion_matrix\n",
    "from sklearn.model_selection import StratifiedShuffleSplit\n",
    "from sklearn.model_selection import GridSearchCV\n",
    "from sklearn.impute import SimpleImputer\n",
    "\n",
    "from matplotlib.colors import Normalize"
   ]
  },
  {
   "cell_type": "code",
   "execution_count": 15,
   "metadata": {
    "colab": {},
    "colab_type": "code",
    "id": "0d6EotxX_ys1"
   },
   "outputs": [],
   "source": [
    "path_to_dataset = 'output/'\n",
    "df = pd.read_csv( path_to_dataset + \"2020_05_01_02_50_12_AM_metrics\" )\n",
    "df = df.T\n",
    "\n",
    "# The transpose of the dataframe is taken. And the header of the first row is used as the new headers of the dataframe\n",
    "\n",
    "new_header = df.iloc[0] #grab the first row for the header\n",
    "df = df[1:] #take the data less the header row\n",
    "df.columns = new_header #set the header row as the df header"
   ]
  },
  {
   "cell_type": "code",
   "execution_count": 16,
   "metadata": {},
   "outputs": [],
   "source": [
    "def make_float( string ):\n",
    "    try:\n",
    "        digits = float (''.join(ch for ch in string.split(\",\")[1] if ch.isdigit() or ch == '.'))\n",
    "        return digits\n",
    "    except:\n",
    "        return np.nan"
   ]
  },
  {
   "cell_type": "code",
   "execution_count": 21,
   "metadata": {},
   "outputs": [],
   "source": [
    "# Make the Y vector\n",
    "# Change the df field note according changes might be needed in the make_float function\n",
    "\n",
    "Y = df[\"microservices_demo_user_request_latency_microseconds\"] \n",
    "Y = np.array( Y )[ : , 2  ] # 2 because the second column has the 99 percentile latency\n",
    "Y_float = [ make_float(y) for y in Y[ :  ] ]\n",
    "\n",
    "Y_float = pd.Series( Y_float )\n",
    "Y_float = Y_float.dropna()\n",
    "Y_float = Y_float.iloc[:-1]"
   ]
  },
  {
   "cell_type": "code",
   "execution_count": 51,
   "metadata": {},
   "outputs": [
    {
     "data": {
      "text/html": [
       "<div>\n",
       "<style scoped>\n",
       "    .dataframe tbody tr th:only-of-type {\n",
       "        vertical-align: middle;\n",
       "    }\n",
       "\n",
       "    .dataframe tbody tr th {\n",
       "        vertical-align: top;\n",
       "    }\n",
       "\n",
       "    .dataframe thead th {\n",
       "        text-align: right;\n",
       "    }\n",
       "</style>\n",
       "<table border=\"1\" class=\"dataframe\">\n",
       "  <thead>\n",
       "    <tr style=\"text-align: right;\">\n",
       "      <th></th>\n",
       "      <th>gc_g1_old_generation_count0</th>\n",
       "      <th>gc_g1_old_generation_count1</th>\n",
       "      <th>gc_g1_old_generation_count2</th>\n",
       "      <th>gc_g1_young_generation_count0</th>\n",
       "      <th>gc_g1_young_generation_count1</th>\n",
       "      <th>gc_g1_young_generation_count2</th>\n",
       "      <th>go_gc_duration_seconds0</th>\n",
       "      <th>go_gc_duration_seconds1</th>\n",
       "      <th>go_gc_duration_seconds2</th>\n",
       "      <th>go_gc_duration_seconds3</th>\n",
       "      <th>...</th>\n",
       "      <th>jvm_memory_pool_bytes_used13</th>\n",
       "      <th>jvm_memory_pool_bytes_used14</th>\n",
       "      <th>jvm_memory_pool_bytes_used15</th>\n",
       "      <th>jvm_memory_pool_bytes_used16</th>\n",
       "      <th>jvm_memory_pool_bytes_used17</th>\n",
       "      <th>microservices_demo_user_request_count0</th>\n",
       "      <th>microservices_demo_user_request_count1</th>\n",
       "      <th>microservices_demo_user_request_count2</th>\n",
       "      <th>microservices_demo_user_request_count3</th>\n",
       "      <th>nodejs_heap_size_used_bytes3</th>\n",
       "    </tr>\n",
       "  </thead>\n",
       "  <tbody>\n",
       "    <tr>\n",
       "      <th>0</th>\n",
       "      <td>0.0</td>\n",
       "      <td>0.0</td>\n",
       "      <td>0.0</td>\n",
       "      <td>94.0</td>\n",
       "      <td>207.0</td>\n",
       "      <td>212.0</td>\n",
       "      <td>0.000047</td>\n",
       "      <td>0.000215</td>\n",
       "      <td>0.000257</td>\n",
       "      <td>0.000417</td>\n",
       "      <td>...</td>\n",
       "      <td>49720328.0</td>\n",
       "      <td>5706576.0</td>\n",
       "      <td>47185920.0</td>\n",
       "      <td>1048576.0</td>\n",
       "      <td>53779904.0</td>\n",
       "      <td>7833.0</td>\n",
       "      <td>7833.0</td>\n",
       "      <td>31332.0</td>\n",
       "      <td>8139.0</td>\n",
       "      <td>25243648.0</td>\n",
       "    </tr>\n",
       "    <tr>\n",
       "      <th>1</th>\n",
       "      <td>0.0</td>\n",
       "      <td>0.0</td>\n",
       "      <td>0.0</td>\n",
       "      <td>94.0</td>\n",
       "      <td>207.0</td>\n",
       "      <td>213.0</td>\n",
       "      <td>0.000047</td>\n",
       "      <td>0.000215</td>\n",
       "      <td>0.000257</td>\n",
       "      <td>0.000417</td>\n",
       "      <td>...</td>\n",
       "      <td>49720328.0</td>\n",
       "      <td>5706576.0</td>\n",
       "      <td>1048576.0</td>\n",
       "      <td>1048576.0</td>\n",
       "      <td>53429920.0</td>\n",
       "      <td>7845.0</td>\n",
       "      <td>7845.0</td>\n",
       "      <td>31380.0</td>\n",
       "      <td>8152.0</td>\n",
       "      <td>25243648.0</td>\n",
       "    </tr>\n",
       "    <tr>\n",
       "      <th>2</th>\n",
       "      <td>0.0</td>\n",
       "      <td>0.0</td>\n",
       "      <td>0.0</td>\n",
       "      <td>94.0</td>\n",
       "      <td>208.0</td>\n",
       "      <td>213.0</td>\n",
       "      <td>0.000047</td>\n",
       "      <td>0.000215</td>\n",
       "      <td>0.000257</td>\n",
       "      <td>0.000417</td>\n",
       "      <td>...</td>\n",
       "      <td>49720328.0</td>\n",
       "      <td>5706576.0</td>\n",
       "      <td>35651584.0</td>\n",
       "      <td>1048576.0</td>\n",
       "      <td>53429920.0</td>\n",
       "      <td>7878.0</td>\n",
       "      <td>7878.0</td>\n",
       "      <td>31512.0</td>\n",
       "      <td>8186.0</td>\n",
       "      <td>26207080.0</td>\n",
       "    </tr>\n",
       "    <tr>\n",
       "      <th>3</th>\n",
       "      <td>0.0</td>\n",
       "      <td>0.0</td>\n",
       "      <td>0.0</td>\n",
       "      <td>94.0</td>\n",
       "      <td>208.0</td>\n",
       "      <td>213.0</td>\n",
       "      <td>0.000047</td>\n",
       "      <td>0.000215</td>\n",
       "      <td>0.000257</td>\n",
       "      <td>0.000417</td>\n",
       "      <td>...</td>\n",
       "      <td>49720328.0</td>\n",
       "      <td>5706576.0</td>\n",
       "      <td>59768832.0</td>\n",
       "      <td>1048576.0</td>\n",
       "      <td>53429920.0</td>\n",
       "      <td>7899.0</td>\n",
       "      <td>7899.0</td>\n",
       "      <td>31596.0</td>\n",
       "      <td>8211.0</td>\n",
       "      <td>26207080.0</td>\n",
       "    </tr>\n",
       "    <tr>\n",
       "      <th>4</th>\n",
       "      <td>0.0</td>\n",
       "      <td>0.0</td>\n",
       "      <td>0.0</td>\n",
       "      <td>94.0</td>\n",
       "      <td>208.0</td>\n",
       "      <td>214.0</td>\n",
       "      <td>0.000047</td>\n",
       "      <td>0.000215</td>\n",
       "      <td>0.000257</td>\n",
       "      <td>0.000417</td>\n",
       "      <td>...</td>\n",
       "      <td>49720328.0</td>\n",
       "      <td>5706576.0</td>\n",
       "      <td>19922944.0</td>\n",
       "      <td>1048576.0</td>\n",
       "      <td>53559352.0</td>\n",
       "      <td>7920.0</td>\n",
       "      <td>7920.0</td>\n",
       "      <td>31680.0</td>\n",
       "      <td>8236.0</td>\n",
       "      <td>24550560.0</td>\n",
       "    </tr>\n",
       "    <tr>\n",
       "      <th>...</th>\n",
       "      <td>...</td>\n",
       "      <td>...</td>\n",
       "      <td>...</td>\n",
       "      <td>...</td>\n",
       "      <td>...</td>\n",
       "      <td>...</td>\n",
       "      <td>...</td>\n",
       "      <td>...</td>\n",
       "      <td>...</td>\n",
       "      <td>...</td>\n",
       "      <td>...</td>\n",
       "      <td>...</td>\n",
       "      <td>...</td>\n",
       "      <td>...</td>\n",
       "      <td>...</td>\n",
       "      <td>...</td>\n",
       "      <td>...</td>\n",
       "      <td>...</td>\n",
       "      <td>...</td>\n",
       "      <td>...</td>\n",
       "      <td>...</td>\n",
       "    </tr>\n",
       "    <tr>\n",
       "      <th>122</th>\n",
       "      <td>0.0</td>\n",
       "      <td>0.0</td>\n",
       "      <td>0.0</td>\n",
       "      <td>109.0</td>\n",
       "      <td>327.0</td>\n",
       "      <td>335.0</td>\n",
       "      <td>0.000047</td>\n",
       "      <td>0.000225</td>\n",
       "      <td>0.000263</td>\n",
       "      <td>0.000408</td>\n",
       "      <td>...</td>\n",
       "      <td>49722360.0</td>\n",
       "      <td>5706576.0</td>\n",
       "      <td>58720256.0</td>\n",
       "      <td>1048576.0</td>\n",
       "      <td>54079128.0</td>\n",
       "      <td>14937.0</td>\n",
       "      <td>14937.0</td>\n",
       "      <td>59751.0</td>\n",
       "      <td>15525.0</td>\n",
       "      <td>49246360.0</td>\n",
       "    </tr>\n",
       "    <tr>\n",
       "      <th>123</th>\n",
       "      <td>0.0</td>\n",
       "      <td>0.0</td>\n",
       "      <td>0.0</td>\n",
       "      <td>109.0</td>\n",
       "      <td>328.0</td>\n",
       "      <td>337.0</td>\n",
       "      <td>0.000047</td>\n",
       "      <td>0.000225</td>\n",
       "      <td>0.000263</td>\n",
       "      <td>0.000408</td>\n",
       "      <td>...</td>\n",
       "      <td>49722360.0</td>\n",
       "      <td>5706576.0</td>\n",
       "      <td>38797312.0</td>\n",
       "      <td>1048576.0</td>\n",
       "      <td>54111128.0</td>\n",
       "      <td>15036.0</td>\n",
       "      <td>15036.0</td>\n",
       "      <td>60144.0</td>\n",
       "      <td>15625.0</td>\n",
       "      <td>49246360.0</td>\n",
       "    </tr>\n",
       "    <tr>\n",
       "      <th>124</th>\n",
       "      <td>0.0</td>\n",
       "      <td>0.0</td>\n",
       "      <td>0.0</td>\n",
       "      <td>109.0</td>\n",
       "      <td>331.0</td>\n",
       "      <td>339.0</td>\n",
       "      <td>0.000047</td>\n",
       "      <td>0.000225</td>\n",
       "      <td>0.000263</td>\n",
       "      <td>0.000408</td>\n",
       "      <td>...</td>\n",
       "      <td>49722360.0</td>\n",
       "      <td>5706576.0</td>\n",
       "      <td>39845888.0</td>\n",
       "      <td>1048576.0</td>\n",
       "      <td>54082480.0</td>\n",
       "      <td>15168.0</td>\n",
       "      <td>15168.0</td>\n",
       "      <td>60672.0</td>\n",
       "      <td>15760.0</td>\n",
       "      <td>41167736.0</td>\n",
       "    </tr>\n",
       "    <tr>\n",
       "      <th>125</th>\n",
       "      <td>0.0</td>\n",
       "      <td>0.0</td>\n",
       "      <td>0.0</td>\n",
       "      <td>110.0</td>\n",
       "      <td>333.0</td>\n",
       "      <td>342.0</td>\n",
       "      <td>0.000047</td>\n",
       "      <td>0.000225</td>\n",
       "      <td>0.000263</td>\n",
       "      <td>0.000408</td>\n",
       "      <td>...</td>\n",
       "      <td>49722360.0</td>\n",
       "      <td>5706576.0</td>\n",
       "      <td>15728640.0</td>\n",
       "      <td>1048576.0</td>\n",
       "      <td>54156112.0</td>\n",
       "      <td>15320.0</td>\n",
       "      <td>15320.0</td>\n",
       "      <td>61280.0</td>\n",
       "      <td>15916.0</td>\n",
       "      <td>41167736.0</td>\n",
       "    </tr>\n",
       "    <tr>\n",
       "      <th>126</th>\n",
       "      <td>0.0</td>\n",
       "      <td>0.0</td>\n",
       "      <td>0.0</td>\n",
       "      <td>110.0</td>\n",
       "      <td>335.0</td>\n",
       "      <td>344.0</td>\n",
       "      <td>0.000047</td>\n",
       "      <td>0.000225</td>\n",
       "      <td>0.000263</td>\n",
       "      <td>0.000408</td>\n",
       "      <td>...</td>\n",
       "      <td>49722360.0</td>\n",
       "      <td>5706576.0</td>\n",
       "      <td>20971520.0</td>\n",
       "      <td>2097152.0</td>\n",
       "      <td>53320920.0</td>\n",
       "      <td>15429.0</td>\n",
       "      <td>15429.0</td>\n",
       "      <td>61716.0</td>\n",
       "      <td>16030.0</td>\n",
       "      <td>40574392.0</td>\n",
       "    </tr>\n",
       "  </tbody>\n",
       "</table>\n",
       "<p>127 rows × 128 columns</p>\n",
       "</div>"
      ],
      "text/plain": [
       "     gc_g1_old_generation_count0  gc_g1_old_generation_count1  \\\n",
       "0                            0.0                          0.0   \n",
       "1                            0.0                          0.0   \n",
       "2                            0.0                          0.0   \n",
       "3                            0.0                          0.0   \n",
       "4                            0.0                          0.0   \n",
       "..                           ...                          ...   \n",
       "122                          0.0                          0.0   \n",
       "123                          0.0                          0.0   \n",
       "124                          0.0                          0.0   \n",
       "125                          0.0                          0.0   \n",
       "126                          0.0                          0.0   \n",
       "\n",
       "     gc_g1_old_generation_count2  gc_g1_young_generation_count0  \\\n",
       "0                            0.0                           94.0   \n",
       "1                            0.0                           94.0   \n",
       "2                            0.0                           94.0   \n",
       "3                            0.0                           94.0   \n",
       "4                            0.0                           94.0   \n",
       "..                           ...                            ...   \n",
       "122                          0.0                          109.0   \n",
       "123                          0.0                          109.0   \n",
       "124                          0.0                          109.0   \n",
       "125                          0.0                          110.0   \n",
       "126                          0.0                          110.0   \n",
       "\n",
       "     gc_g1_young_generation_count1  gc_g1_young_generation_count2  \\\n",
       "0                            207.0                          212.0   \n",
       "1                            207.0                          213.0   \n",
       "2                            208.0                          213.0   \n",
       "3                            208.0                          213.0   \n",
       "4                            208.0                          214.0   \n",
       "..                             ...                            ...   \n",
       "122                          327.0                          335.0   \n",
       "123                          328.0                          337.0   \n",
       "124                          331.0                          339.0   \n",
       "125                          333.0                          342.0   \n",
       "126                          335.0                          344.0   \n",
       "\n",
       "     go_gc_duration_seconds0  go_gc_duration_seconds1  \\\n",
       "0                   0.000047                 0.000215   \n",
       "1                   0.000047                 0.000215   \n",
       "2                   0.000047                 0.000215   \n",
       "3                   0.000047                 0.000215   \n",
       "4                   0.000047                 0.000215   \n",
       "..                       ...                      ...   \n",
       "122                 0.000047                 0.000225   \n",
       "123                 0.000047                 0.000225   \n",
       "124                 0.000047                 0.000225   \n",
       "125                 0.000047                 0.000225   \n",
       "126                 0.000047                 0.000225   \n",
       "\n",
       "     go_gc_duration_seconds2  go_gc_duration_seconds3  ...  \\\n",
       "0                   0.000257                 0.000417  ...   \n",
       "1                   0.000257                 0.000417  ...   \n",
       "2                   0.000257                 0.000417  ...   \n",
       "3                   0.000257                 0.000417  ...   \n",
       "4                   0.000257                 0.000417  ...   \n",
       "..                       ...                      ...  ...   \n",
       "122                 0.000263                 0.000408  ...   \n",
       "123                 0.000263                 0.000408  ...   \n",
       "124                 0.000263                 0.000408  ...   \n",
       "125                 0.000263                 0.000408  ...   \n",
       "126                 0.000263                 0.000408  ...   \n",
       "\n",
       "     jvm_memory_pool_bytes_used13  jvm_memory_pool_bytes_used14  \\\n",
       "0                      49720328.0                     5706576.0   \n",
       "1                      49720328.0                     5706576.0   \n",
       "2                      49720328.0                     5706576.0   \n",
       "3                      49720328.0                     5706576.0   \n",
       "4                      49720328.0                     5706576.0   \n",
       "..                            ...                           ...   \n",
       "122                    49722360.0                     5706576.0   \n",
       "123                    49722360.0                     5706576.0   \n",
       "124                    49722360.0                     5706576.0   \n",
       "125                    49722360.0                     5706576.0   \n",
       "126                    49722360.0                     5706576.0   \n",
       "\n",
       "     jvm_memory_pool_bytes_used15  jvm_memory_pool_bytes_used16  \\\n",
       "0                      47185920.0                     1048576.0   \n",
       "1                       1048576.0                     1048576.0   \n",
       "2                      35651584.0                     1048576.0   \n",
       "3                      59768832.0                     1048576.0   \n",
       "4                      19922944.0                     1048576.0   \n",
       "..                            ...                           ...   \n",
       "122                    58720256.0                     1048576.0   \n",
       "123                    38797312.0                     1048576.0   \n",
       "124                    39845888.0                     1048576.0   \n",
       "125                    15728640.0                     1048576.0   \n",
       "126                    20971520.0                     2097152.0   \n",
       "\n",
       "     jvm_memory_pool_bytes_used17  microservices_demo_user_request_count0  \\\n",
       "0                      53779904.0                                  7833.0   \n",
       "1                      53429920.0                                  7845.0   \n",
       "2                      53429920.0                                  7878.0   \n",
       "3                      53429920.0                                  7899.0   \n",
       "4                      53559352.0                                  7920.0   \n",
       "..                            ...                                     ...   \n",
       "122                    54079128.0                                 14937.0   \n",
       "123                    54111128.0                                 15036.0   \n",
       "124                    54082480.0                                 15168.0   \n",
       "125                    54156112.0                                 15320.0   \n",
       "126                    53320920.0                                 15429.0   \n",
       "\n",
       "     microservices_demo_user_request_count1  \\\n",
       "0                                    7833.0   \n",
       "1                                    7845.0   \n",
       "2                                    7878.0   \n",
       "3                                    7899.0   \n",
       "4                                    7920.0   \n",
       "..                                      ...   \n",
       "122                                 14937.0   \n",
       "123                                 15036.0   \n",
       "124                                 15168.0   \n",
       "125                                 15320.0   \n",
       "126                                 15429.0   \n",
       "\n",
       "     microservices_demo_user_request_count2  \\\n",
       "0                                   31332.0   \n",
       "1                                   31380.0   \n",
       "2                                   31512.0   \n",
       "3                                   31596.0   \n",
       "4                                   31680.0   \n",
       "..                                      ...   \n",
       "122                                 59751.0   \n",
       "123                                 60144.0   \n",
       "124                                 60672.0   \n",
       "125                                 61280.0   \n",
       "126                                 61716.0   \n",
       "\n",
       "     microservices_demo_user_request_count3  nodejs_heap_size_used_bytes3  \n",
       "0                                    8139.0                    25243648.0  \n",
       "1                                    8152.0                    25243648.0  \n",
       "2                                    8186.0                    26207080.0  \n",
       "3                                    8211.0                    26207080.0  \n",
       "4                                    8236.0                    24550560.0  \n",
       "..                                      ...                           ...  \n",
       "122                                 15525.0                    49246360.0  \n",
       "123                                 15625.0                    49246360.0  \n",
       "124                                 15760.0                    41167736.0  \n",
       "125                                 15916.0                    41167736.0  \n",
       "126                                 16030.0                    40574392.0  \n",
       "\n",
       "[127 rows x 128 columns]"
      ]
     },
     "execution_count": 51,
     "metadata": {},
     "output_type": "execute_result"
    }
   ],
   "source": [
    "# Make X\n",
    "list_of_features = [ \"gc_g1_old_generation_count\" , \"gc_g1_young_generation_count\" , \"go_gc_duration_seconds\" ,\n",
    "                    \"go_memstats_heap_alloc_bytes\" , \"go_memstats_heap_inuse_bytes\",\n",
    "                   \"go_memstats_last_gc_time_seconds\" , \"go_memstats_mallocs_total\" , \"go_memstats_stack_inuse_bytes\" , \"heap_used\" , \"httpsessions_active\" , \n",
    "                   \"jvm_classes_loaded\" , \"jvm_gc_collection_seconds_count\" , \"jvm_memory_bytes_committed\" ,\n",
    "                   \"jvm_memory_bytes_max\" , \"jvm_memory_bytes_used\" , \"jvm_memory_pool_bytes_committed\" , \n",
    "                   \"jvm_memory_pool_bytes_max\" , \"jvm_memory_pool_bytes_used\" , \"microservices_demo_user_request_count\",\n",
    "                   \"nodejs_heap_size_used_bytes\"]\n",
    "\n",
    "final_list_of_features = []\n",
    "X = pd.DataFrame()\n",
    "for feature in list_of_features:\n",
    "    df2 = df[ feature ]\n",
    "    feature_array = np.array(df2)\n",
    "#     print(feature)\n",
    "    if len(df2.shape) == 2:\n",
    "        for i in range( df2.shape[1] ):\n",
    "            x_feature = feature_array[ : , i ]\n",
    "            x_feature_float = [ make_float(x) for x in x_feature[ : ] ]\n",
    "            X[ feature + str( i ) ] = x_feature_float\n",
    "            final_list_of_features.append( feature + str( i ) )\n",
    "    else:\n",
    "        x_feature = feature_array\n",
    "        x_feature_float = [ make_float(x) for x in x_feature[ : ] ]\n",
    "        X[ feature + str( i ) ] = x_feature_float\n",
    "        final_list_of_features.append( feature + str( i ) )\n",
    "        \n",
    "X.dtypes\n",
    "X.astype(float)\n",
    "# X.astype(object).convert_objects()\n",
    "# X.to_csv('out.csv')\n",
    "X = X.dropna()\n",
    "# imp = SimpleImputer(missing_values=np.nan, strategy='mean')\n",
    "# imp.fit_transform(X)\n",
    "X"
   ]
  },
  {
   "cell_type": "code",
   "execution_count": 52,
   "metadata": {},
   "outputs": [],
   "source": [
    "X_train, X_test, y_train, y_test = train_test_split( X, Y_float , test_size=0.33, random_state=42)"
   ]
  },
  {
   "cell_type": "code",
   "execution_count": 53,
   "metadata": {
    "colab": {},
    "colab_type": "code",
    "id": "geJdwm8dl2CZ"
   },
   "outputs": [],
   "source": [
    "scaler = StandardScaler()\n",
    "X_train = scaler.fit_transform(X_train)\n",
    "X_test = scaler.fit_transform( X_test )"
   ]
  },
  {
   "cell_type": "markdown",
   "metadata": {},
   "source": [
    "# DO NOT USE FOR 5710 BELOW THIS LINE"
   ]
  },
  {
   "cell_type": "code",
   "execution_count": 54,
   "metadata": {},
   "outputs": [],
   "source": [
    "y_train = y_train - np.mean(y_train) > 0\n",
    "y_train = np.array( y_train , dtype = np.int )\n",
    "y_test = y_test - np.mean(y_test) > 0\n",
    "y_test = np.array( y_test , dtype = np.int )"
   ]
  },
  {
   "cell_type": "code",
   "execution_count": 55,
   "metadata": {
    "colab": {
     "base_uri": "https://localhost:8080/",
     "height": 86
    },
    "colab_type": "code",
    "id": "SefV9SqGx9MA",
    "outputId": "0fd2748e-b6e5-4ced-8965-796bf1fdac45"
   },
   "outputs": [
    {
     "name": "stdout",
     "output_type": "stream",
     "text": [
      "Test score with L1 penalty: 1.0000\n",
      "Test score with L1 penalty: 1.0000\n"
     ]
    }
   ],
   "source": [
    "clf = LogisticRegression(C=1,\n",
    "                         multi_class='multinomial',\n",
    "                         penalty='l2', solver='saga', tol=0.1)\n",
    "# Train the classifier\n",
    "clf.fit(X_train, y_train)\n",
    "score = clf.score(X_train, y_train)\n",
    "print(\"Test score with L1 penalty: %.4f\" % score)\n",
    "#Evaluate the classifier\n",
    "# score = clf.score(X_val ,  y_val)\n",
    "print(\"Test score with L1 penalty: %.4f\" % score)"
   ]
  },
  {
   "cell_type": "code",
   "execution_count": 56,
   "metadata": {
    "colab": {},
    "colab_type": "code",
    "id": "rl7gc_SU1_2P"
   },
   "outputs": [
    {
     "name": "stdout",
     "output_type": "stream",
     "text": [
      "Test score with L1 penalty: 1.0000\n",
      "Test score with L1 penalty: 1.0000\n"
     ]
    }
   ],
   "source": [
    "clf = SVC(kernel = 'rbf' , C = 100 , gamma = 100)\n",
    "# Train the classifier\n",
    "clf.fit(X_train, y_train.flatten())\n",
    "score = clf.score(X_train , y_train)\n",
    "print(\"Test score with L1 penalty: %.4f\" % score)\n",
    "# score = clf.score(x_val, y_val.flatten())\n",
    "print(\"Test score with L1 penalty: %.4f\" % score)"
   ]
  },
  {
   "cell_type": "code",
   "execution_count": 57,
   "metadata": {
    "colab": {},
    "colab_type": "code",
    "id": "QV54vjMavZe5"
   },
   "outputs": [
    {
     "name": "stdout",
     "output_type": "stream",
     "text": [
      "Test score with L1 penalty: 0.5952\n"
     ]
    }
   ],
   "source": [
    "score = clf.score(X_test, y_test.flatten())\n",
    "print(\"Test score with L1 penalty: %.4f\" % score)"
   ]
  },
  {
   "cell_type": "code",
   "execution_count": 0,
   "metadata": {
    "colab": {},
    "colab_type": "code",
    "id": "tzQPLNLba06A"
   },
   "outputs": [],
   "source": [
    "# C_range = np.logspace(-2, -3, 2)\n",
    "# gamma_range = np.logspace(-7, -8, 2)\n",
    "# param_grid = dict(gamma=gamma_range, C=C_range)\n",
    "# cv = StratifiedShuffleSplit(n_splits=5, test_size=0.2, random_state=42)\n",
    "# grid = GridSearchCV(SVC(), param_grid=param_grid, cv=cv)\n",
    "# grid.fit(x_train , y_train)\n",
    "\n",
    "# print(\"The best parameters are %s with a score of %0.2f\"\n",
    "#       % (grid.best_params_, grid.best_score_))"
   ]
  },
  {
   "cell_type": "code",
   "execution_count": 0,
   "metadata": {
    "colab": {},
    "colab_type": "code",
    "id": "PQA60M1z1qE9"
   },
   "outputs": [],
   "source": []
  },
  {
   "cell_type": "code",
   "execution_count": 0,
   "metadata": {
    "colab": {},
    "colab_type": "code",
    "id": "SzyyMKM4bnnP"
   },
   "outputs": [],
   "source": []
  },
  {
   "cell_type": "code",
   "execution_count": 67,
   "metadata": {
    "colab": {},
    "colab_type": "code",
    "id": "4_QGI9XP49wU"
   },
   "outputs": [],
   "source": [
    "import itertools\n",
    "def plot_confusion_matrix(cm, classes, normalize=False, title='Confusion matrix', cmap=plt.cm.Blues):\n",
    "    \n",
    "    plt.imshow(cm, interpolation='nearest', cmap=cmap)\n",
    "    plt.title(title)\n",
    "    plt.colorbar()\n",
    "    tick_marks = np.arange(len(classes))\n",
    "    plt.xticks(tick_marks, classes, rotation=45)\n",
    "    plt.yticks(tick_marks, classes)\n",
    "\n",
    "    fmt = '.2f' if normalize else 'd'\n",
    "    thresh = cm.max() / 2.\n",
    "    for i, j in itertools.product(range(cm.shape[0]), range(cm.shape[1])):\n",
    "        plt.text(j, i, format(cm[i, j], fmt),\n",
    "                 horizontalalignment=\"center\",\n",
    "                 color=\"black\" if cm[i, j] > thresh else \"black\")\n",
    "\n",
    "    plt.ylabel('True label')\n",
    "    plt.xlabel('Predicted label')\n",
    "    plt.tight_layout()"
   ]
  },
  {
   "cell_type": "code",
   "execution_count": 69,
   "metadata": {
    "colab": {
     "base_uri": "https://localhost:8080/",
     "height": 326
    },
    "colab_type": "code",
    "id": "oGUkP_Vc5Q4g",
    "outputId": "e7edb2bb-ee83-4d26-a067-1e2188cacafa"
   },
   "outputs": [
    {
     "data": {
      "image/png": "[encoded data removed]",
      "text/plain": [
       "<Figure size 432x288 with 2 Axes>"
      ]
     },
     "metadata": {
      "needs_background": "light"
     },
     "output_type": "display_data"
    }
   ],
   "source": [
    "y_predict = clf.predict(x_test)\n",
    "cfm = confusion_matrix(y_test.flatten(), y_predict)\n",
    "plot_confusion_matrix(cfm, classes=range(4), \n",
    "                      title='CFM')"
   ]
  },
  {
   "cell_type": "code",
   "execution_count": 58,
   "metadata": {
    "colab": {},
    "colab_type": "code",
    "id": "b2jw0AXlcxAK"
   },
   "outputs": [],
   "source": [
    "def cross_validation(xTr,yTr,xValid,yValid,ktype,CList,lmbdaList):\n",
    "    ErrorMatrix=np.zeros((len(CList),len(lmbdaList)))\n",
    "    bestC,bestLmbda = 0.,0.\n",
    "    \n",
    "    # Start Solution\n",
    "    hype_para = []\n",
    "    trainingerr = []\n",
    "    testingerr = []\n",
    "    for C in CList:\n",
    "        for lmbda in lmbdaList:\n",
    "            hype_para.append((C,lmbda))\n",
    "\n",
    "    for C, lmbda in hype_para:\n",
    "        clf = SVC(kernel = ktype , C = C , gamma = lmbda)\n",
    "        # Train the classifier\n",
    "        clf.fit(x_train, y_train)\n",
    "        score_tr = clf.score(x_train , y_train)\n",
    "        print(\"Train score: %.4f for C %4f and lmbda %4f\" % (score_tr , C , lmbda))\n",
    "        score_te = clf.score(x_val, y_val)\n",
    "        print(\"Test score: %.4f for C %4f and lmbda %4f\" % (score_te , C , lmbda))\n",
    "\n",
    "        trainerror_single = 1 - score_tr\n",
    "        trainingerr.append(trainerror_single)\n",
    "        testerror_single = 1 - score_te\n",
    "        testingerr.append(testerror_single)\n",
    "        if testerror_single == np.amin(testingerr):\n",
    "             bestC,bestLmbda = C, lmbda\n",
    "        print(\"Training error: %2.4f\" % trainerror_single)\n",
    "        print(\"Testing error: %2.4f\" % testerror_single)\n",
    "\n",
    "    ErrorMatrix = np.reshape(testingerr,(len(CList),len(lmbdaList)))    \n",
    "    # End Solution\n",
    "            \n",
    "    return bestC,bestLmbda,ErrorMatrix"
   ]
  },
  {
   "cell_type": "code",
   "execution_count": 0,
   "metadata": {
    "colab": {
     "base_uri": "https://localhost:8080/",
     "height": 1000
    },
    "colab_type": "code",
    "id": "-BeNFl6Lc4Ib",
    "outputId": "9644f892-3fd0-4bad-e0b0-55750362a44e"
   },
   "outputs": [
    {
     "name": "stderr",
     "output_type": "stream",
     "text": [
      "/usr/local/lib/python3.6/dist-packages/sklearn/utils/validation.py:724: DataConversionWarning: A column-vector y was passed when a 1d array was expected. Please change the shape of y to (n_samples, ), for example using ravel().\n",
      "  y = column_or_1d(y, warn=True)\n"
     ]
    },
    {
     "name": "stdout",
     "output_type": "stream",
     "text": [
      "Train score: 0.6895 for C 0.500000 and lmbda 0.100000\n",
      "Test score: 0.6838 for C 0.500000 and lmbda 0.100000\n",
      "Training error: 0.3105\n",
      "Testing error: 0.3162\n"
     ]
    },
    {
     "name": "stderr",
     "output_type": "stream",
     "text": [
      "/usr/local/lib/python3.6/dist-packages/sklearn/utils/validation.py:724: DataConversionWarning: A column-vector y was passed when a 1d array was expected. Please change the shape of y to (n_samples, ), for example using ravel().\n",
      "  y = column_or_1d(y, warn=True)\n"
     ]
    },
    {
     "name": "stdout",
     "output_type": "stream",
     "text": [
      "Train score: 0.6992 for C 0.500000 and lmbda 0.200000\n",
      "Test score: 0.6944 for C 0.500000 and lmbda 0.200000\n",
      "Training error: 0.3008\n",
      "Testing error: 0.3056\n"
     ]
    },
    {
     "name": "stderr",
     "output_type": "stream",
     "text": [
      "/usr/local/lib/python3.6/dist-packages/sklearn/utils/validation.py:724: DataConversionWarning: A column-vector y was passed when a 1d array was expected. Please change the shape of y to (n_samples, ), for example using ravel().\n",
      "  y = column_or_1d(y, warn=True)\n"
     ]
    },
    {
     "name": "stdout",
     "output_type": "stream",
     "text": [
      "Train score: 0.7059 for C 0.500000 and lmbda 0.300000\n",
      "Test score: 0.6972 for C 0.500000 and lmbda 0.300000\n",
      "Training error: 0.2941\n",
      "Testing error: 0.3028\n"
     ]
    },
    {
     "name": "stderr",
     "output_type": "stream",
     "text": [
      "/usr/local/lib/python3.6/dist-packages/sklearn/utils/validation.py:724: DataConversionWarning: A column-vector y was passed when a 1d array was expected. Please change the shape of y to (n_samples, ), for example using ravel().\n",
      "  y = column_or_1d(y, warn=True)\n"
     ]
    },
    {
     "name": "stdout",
     "output_type": "stream",
     "text": [
      "Train score: 0.7107 for C 0.500000 and lmbda 0.400000\n",
      "Test score: 0.6990 for C 0.500000 and lmbda 0.400000\n",
      "Training error: 0.2893\n",
      "Testing error: 0.3010\n"
     ]
    },
    {
     "name": "stderr",
     "output_type": "stream",
     "text": [
      "/usr/local/lib/python3.6/dist-packages/sklearn/utils/validation.py:724: DataConversionWarning: A column-vector y was passed when a 1d array was expected. Please change the shape of y to (n_samples, ), for example using ravel().\n",
      "  y = column_or_1d(y, warn=True)\n"
     ]
    },
    {
     "name": "stdout",
     "output_type": "stream",
     "text": [
      "Train score: 0.7159 for C 0.500000 and lmbda 0.500000\n",
      "Test score: 0.6996 for C 0.500000 and lmbda 0.500000\n",
      "Training error: 0.2841\n",
      "Testing error: 0.3004\n"
     ]
    },
    {
     "name": "stderr",
     "output_type": "stream",
     "text": [
      "/usr/local/lib/python3.6/dist-packages/sklearn/utils/validation.py:724: DataConversionWarning: A column-vector y was passed when a 1d array was expected. Please change the shape of y to (n_samples, ), for example using ravel().\n",
      "  y = column_or_1d(y, warn=True)\n"
     ]
    },
    {
     "name": "stdout",
     "output_type": "stream",
     "text": [
      "Train score: 0.6929 for C 1.000000 and lmbda 0.100000\n",
      "Test score: 0.6878 for C 1.000000 and lmbda 0.100000\n",
      "Training error: 0.3071\n",
      "Testing error: 0.3122\n"
     ]
    },
    {
     "name": "stderr",
     "output_type": "stream",
     "text": [
      "/usr/local/lib/python3.6/dist-packages/sklearn/utils/validation.py:724: DataConversionWarning: A column-vector y was passed when a 1d array was expected. Please change the shape of y to (n_samples, ), for example using ravel().\n",
      "  y = column_or_1d(y, warn=True)\n"
     ]
    },
    {
     "name": "stdout",
     "output_type": "stream",
     "text": [
      "Train score: 0.7048 for C 1.000000 and lmbda 0.200000\n",
      "Test score: 0.6992 for C 1.000000 and lmbda 0.200000\n",
      "Training error: 0.2952\n",
      "Testing error: 0.3008\n"
     ]
    },
    {
     "name": "stderr",
     "output_type": "stream",
     "text": [
      "/usr/local/lib/python3.6/dist-packages/sklearn/utils/validation.py:724: DataConversionWarning: A column-vector y was passed when a 1d array was expected. Please change the shape of y to (n_samples, ), for example using ravel().\n",
      "  y = column_or_1d(y, warn=True)\n"
     ]
    },
    {
     "name": "stdout",
     "output_type": "stream",
     "text": [
      "Train score: 0.7128 for C 1.000000 and lmbda 0.300000\n",
      "Test score: 0.7004 for C 1.000000 and lmbda 0.300000\n",
      "Training error: 0.2872\n",
      "Testing error: 0.2996\n"
     ]
    },
    {
     "name": "stderr",
     "output_type": "stream",
     "text": [
      "/usr/local/lib/python3.6/dist-packages/sklearn/utils/validation.py:724: DataConversionWarning: A column-vector y was passed when a 1d array was expected. Please change the shape of y to (n_samples, ), for example using ravel().\n",
      "  y = column_or_1d(y, warn=True)\n"
     ]
    },
    {
     "name": "stdout",
     "output_type": "stream",
     "text": [
      "Train score: 0.7205 for C 1.000000 and lmbda 0.400000\n",
      "Test score: 0.7030 for C 1.000000 and lmbda 0.400000\n",
      "Training error: 0.2795\n",
      "Testing error: 0.2970\n"
     ]
    },
    {
     "name": "stderr",
     "output_type": "stream",
     "text": [
      "/usr/local/lib/python3.6/dist-packages/sklearn/utils/validation.py:724: DataConversionWarning: A column-vector y was passed when a 1d array was expected. Please change the shape of y to (n_samples, ), for example using ravel().\n",
      "  y = column_or_1d(y, warn=True)\n"
     ]
    },
    {
     "name": "stdout",
     "output_type": "stream",
     "text": [
      "Train score: 0.7267 for C 1.000000 and lmbda 0.500000\n",
      "Test score: 0.7032 for C 1.000000 and lmbda 0.500000\n",
      "Training error: 0.2733\n",
      "Testing error: 0.2968\n"
     ]
    },
    {
     "name": "stderr",
     "output_type": "stream",
     "text": [
      "/usr/local/lib/python3.6/dist-packages/sklearn/utils/validation.py:724: DataConversionWarning: A column-vector y was passed when a 1d array was expected. Please change the shape of y to (n_samples, ), for example using ravel().\n",
      "  y = column_or_1d(y, warn=True)\n"
     ]
    },
    {
     "name": "stdout",
     "output_type": "stream",
     "text": [
      "Train score: 0.6976 for C 2.000000 and lmbda 0.100000\n",
      "Test score: 0.6920 for C 2.000000 and lmbda 0.100000\n",
      "Training error: 0.3024\n",
      "Testing error: 0.3080\n"
     ]
    },
    {
     "name": "stderr",
     "output_type": "stream",
     "text": [
      "/usr/local/lib/python3.6/dist-packages/sklearn/utils/validation.py:724: DataConversionWarning: A column-vector y was passed when a 1d array was expected. Please change the shape of y to (n_samples, ), for example using ravel().\n",
      "  y = column_or_1d(y, warn=True)\n"
     ]
    },
    {
     "name": "stdout",
     "output_type": "stream",
     "text": [
      "Train score: 0.7103 for C 2.000000 and lmbda 0.200000\n",
      "Test score: 0.6992 for C 2.000000 and lmbda 0.200000\n",
      "Training error: 0.2897\n",
      "Testing error: 0.3008\n"
     ]
    },
    {
     "name": "stderr",
     "output_type": "stream",
     "text": [
      "/usr/local/lib/python3.6/dist-packages/sklearn/utils/validation.py:724: DataConversionWarning: A column-vector y was passed when a 1d array was expected. Please change the shape of y to (n_samples, ), for example using ravel().\n",
      "  y = column_or_1d(y, warn=True)\n"
     ]
    },
    {
     "name": "stdout",
     "output_type": "stream",
     "text": [
      "Train score: 0.7215 for C 2.000000 and lmbda 0.300000\n",
      "Test score: 0.7036 for C 2.000000 and lmbda 0.300000\n",
      "Training error: 0.2785\n",
      "Testing error: 0.2964\n"
     ]
    },
    {
     "name": "stderr",
     "output_type": "stream",
     "text": [
      "/usr/local/lib/python3.6/dist-packages/sklearn/utils/validation.py:724: DataConversionWarning: A column-vector y was passed when a 1d array was expected. Please change the shape of y to (n_samples, ), for example using ravel().\n",
      "  y = column_or_1d(y, warn=True)\n"
     ]
    },
    {
     "name": "stdout",
     "output_type": "stream",
     "text": [
      "Train score: 0.7292 for C 2.000000 and lmbda 0.400000\n",
      "Test score: 0.7012 for C 2.000000 and lmbda 0.400000\n",
      "Training error: 0.2708\n",
      "Testing error: 0.2988\n"
     ]
    },
    {
     "name": "stderr",
     "output_type": "stream",
     "text": [
      "/usr/local/lib/python3.6/dist-packages/sklearn/utils/validation.py:724: DataConversionWarning: A column-vector y was passed when a 1d array was expected. Please change the shape of y to (n_samples, ), for example using ravel().\n",
      "  y = column_or_1d(y, warn=True)\n"
     ]
    },
    {
     "name": "stdout",
     "output_type": "stream",
     "text": [
      "Train score: 0.7375 for C 2.000000 and lmbda 0.500000\n",
      "Test score: 0.7002 for C 2.000000 and lmbda 0.500000\n",
      "Training error: 0.2625\n",
      "Testing error: 0.2998\n"
     ]
    },
    {
     "name": "stderr",
     "output_type": "stream",
     "text": [
      "/usr/local/lib/python3.6/dist-packages/sklearn/utils/validation.py:724: DataConversionWarning: A column-vector y was passed when a 1d array was expected. Please change the shape of y to (n_samples, ), for example using ravel().\n",
      "  y = column_or_1d(y, warn=True)\n"
     ]
    },
    {
     "name": "stdout",
     "output_type": "stream",
     "text": [
      "Train score: 0.7013 for C 4.000000 and lmbda 0.100000\n",
      "Test score: 0.6952 for C 4.000000 and lmbda 0.100000\n",
      "Training error: 0.2987\n",
      "Testing error: 0.3048\n"
     ]
    },
    {
     "name": "stderr",
     "output_type": "stream",
     "text": [
      "/usr/local/lib/python3.6/dist-packages/sklearn/utils/validation.py:724: DataConversionWarning: A column-vector y was passed when a 1d array was expected. Please change the shape of y to (n_samples, ), for example using ravel().\n",
      "  y = column_or_1d(y, warn=True)\n"
     ]
    },
    {
     "name": "stdout",
     "output_type": "stream",
     "text": [
      "Train score: 0.7170 for C 4.000000 and lmbda 0.200000\n",
      "Test score: 0.7014 for C 4.000000 and lmbda 0.200000\n",
      "Training error: 0.2830\n",
      "Testing error: 0.2986\n"
     ]
    },
    {
     "name": "stderr",
     "output_type": "stream",
     "text": [
      "/usr/local/lib/python3.6/dist-packages/sklearn/utils/validation.py:724: DataConversionWarning: A column-vector y was passed when a 1d array was expected. Please change the shape of y to (n_samples, ), for example using ravel().\n",
      "  y = column_or_1d(y, warn=True)\n"
     ]
    },
    {
     "name": "stdout",
     "output_type": "stream",
     "text": [
      "Train score: 0.7285 for C 4.000000 and lmbda 0.300000\n",
      "Test score: 0.7002 for C 4.000000 and lmbda 0.300000\n",
      "Training error: 0.2715\n",
      "Testing error: 0.2998\n"
     ]
    },
    {
     "name": "stderr",
     "output_type": "stream",
     "text": [
      "/usr/local/lib/python3.6/dist-packages/sklearn/utils/validation.py:724: DataConversionWarning: A column-vector y was passed when a 1d array was expected. Please change the shape of y to (n_samples, ), for example using ravel().\n",
      "  y = column_or_1d(y, warn=True)\n"
     ]
    },
    {
     "name": "stdout",
     "output_type": "stream",
     "text": [
      "Train score: 0.7386 for C 4.000000 and lmbda 0.400000\n",
      "Test score: 0.7008 for C 4.000000 and lmbda 0.400000\n",
      "Training error: 0.2614\n",
      "Testing error: 0.2992\n"
     ]
    },
    {
     "name": "stderr",
     "output_type": "stream",
     "text": [
      "/usr/local/lib/python3.6/dist-packages/sklearn/utils/validation.py:724: DataConversionWarning: A column-vector y was passed when a 1d array was expected. Please change the shape of y to (n_samples, ), for example using ravel().\n",
      "  y = column_or_1d(y, warn=True)\n"
     ]
    },
    {
     "name": "stdout",
     "output_type": "stream",
     "text": [
      "Train score: 0.7487 for C 4.000000 and lmbda 0.500000\n",
      "Test score: 0.6962 for C 4.000000 and lmbda 0.500000\n",
      "Training error: 0.2513\n",
      "Testing error: 0.3038\n"
     ]
    },
    {
     "name": "stderr",
     "output_type": "stream",
     "text": [
      "/usr/local/lib/python3.6/dist-packages/sklearn/utils/validation.py:724: DataConversionWarning: A column-vector y was passed when a 1d array was expected. Please change the shape of y to (n_samples, ), for example using ravel().\n",
      "  y = column_or_1d(y, warn=True)\n"
     ]
    },
    {
     "name": "stdout",
     "output_type": "stream",
     "text": [
      "Train score: 0.7071 for C 8.000000 and lmbda 0.100000\n",
      "Test score: 0.6978 for C 8.000000 and lmbda 0.100000\n",
      "Training error: 0.2929\n",
      "Testing error: 0.3022\n"
     ]
    },
    {
     "name": "stderr",
     "output_type": "stream",
     "text": [
      "/usr/local/lib/python3.6/dist-packages/sklearn/utils/validation.py:724: DataConversionWarning: A column-vector y was passed when a 1d array was expected. Please change the shape of y to (n_samples, ), for example using ravel().\n",
      "  y = column_or_1d(y, warn=True)\n"
     ]
    },
    {
     "name": "stdout",
     "output_type": "stream",
     "text": [
      "Train score: 0.7233 for C 8.000000 and lmbda 0.200000\n",
      "Test score: 0.6998 for C 8.000000 and lmbda 0.200000\n",
      "Training error: 0.2767\n",
      "Testing error: 0.3002\n"
     ]
    },
    {
     "name": "stderr",
     "output_type": "stream",
     "text": [
      "/usr/local/lib/python3.6/dist-packages/sklearn/utils/validation.py:724: DataConversionWarning: A column-vector y was passed when a 1d array was expected. Please change the shape of y to (n_samples, ), for example using ravel().\n",
      "  y = column_or_1d(y, warn=True)\n"
     ]
    },
    {
     "name": "stdout",
     "output_type": "stream",
     "text": [
      "Train score: 0.7367 for C 8.000000 and lmbda 0.300000\n",
      "Test score: 0.7016 for C 8.000000 and lmbda 0.300000\n",
      "Training error: 0.2633\n",
      "Testing error: 0.2984\n"
     ]
    },
    {
     "name": "stderr",
     "output_type": "stream",
     "text": [
      "/usr/local/lib/python3.6/dist-packages/sklearn/utils/validation.py:724: DataConversionWarning: A column-vector y was passed when a 1d array was expected. Please change the shape of y to (n_samples, ), for example using ravel().\n",
      "  y = column_or_1d(y, warn=True)\n"
     ]
    },
    {
     "name": "stdout",
     "output_type": "stream",
     "text": [
      "Train score: 0.7488 for C 8.000000 and lmbda 0.400000\n",
      "Test score: 0.6970 for C 8.000000 and lmbda 0.400000\n",
      "Training error: 0.2512\n",
      "Testing error: 0.3030\n"
     ]
    },
    {
     "name": "stderr",
     "output_type": "stream",
     "text": [
      "/usr/local/lib/python3.6/dist-packages/sklearn/utils/validation.py:724: DataConversionWarning: A column-vector y was passed when a 1d array was expected. Please change the shape of y to (n_samples, ), for example using ravel().\n",
      "  y = column_or_1d(y, warn=True)\n"
     ]
    },
    {
     "name": "stdout",
     "output_type": "stream",
     "text": [
      "Train score: 0.7601 for C 8.000000 and lmbda 0.500000\n",
      "Test score: 0.6950 for C 8.000000 and lmbda 0.500000\n",
      "Training error: 0.2399\n",
      "Testing error: 0.3050\n"
     ]
    },
    {
     "name": "stderr",
     "output_type": "stream",
     "text": [
      "/usr/local/lib/python3.6/dist-packages/sklearn/utils/validation.py:724: DataConversionWarning: A column-vector y was passed when a 1d array was expected. Please change the shape of y to (n_samples, ), for example using ravel().\n",
      "  y = column_or_1d(y, warn=True)\n"
     ]
    },
    {
     "name": "stdout",
     "output_type": "stream",
     "text": [
      "Train score: 0.7115 for C 16.000000 and lmbda 0.100000\n",
      "Test score: 0.6994 for C 16.000000 and lmbda 0.100000\n",
      "Training error: 0.2885\n",
      "Testing error: 0.3006\n"
     ]
    },
    {
     "name": "stderr",
     "output_type": "stream",
     "text": [
      "/usr/local/lib/python3.6/dist-packages/sklearn/utils/validation.py:724: DataConversionWarning: A column-vector y was passed when a 1d array was expected. Please change the shape of y to (n_samples, ), for example using ravel().\n",
      "  y = column_or_1d(y, warn=True)\n"
     ]
    },
    {
     "name": "stdout",
     "output_type": "stream",
     "text": [
      "Train score: 0.7296 for C 16.000000 and lmbda 0.200000\n",
      "Test score: 0.6982 for C 16.000000 and lmbda 0.200000\n",
      "Training error: 0.2704\n",
      "Testing error: 0.3018\n"
     ]
    },
    {
     "name": "stderr",
     "output_type": "stream",
     "text": [
      "/usr/local/lib/python3.6/dist-packages/sklearn/utils/validation.py:724: DataConversionWarning: A column-vector y was passed when a 1d array was expected. Please change the shape of y to (n_samples, ), for example using ravel().\n",
      "  y = column_or_1d(y, warn=True)\n"
     ]
    },
    {
     "name": "stdout",
     "output_type": "stream",
     "text": [
      "Train score: 0.7442 for C 16.000000 and lmbda 0.300000\n",
      "Test score: 0.6976 for C 16.000000 and lmbda 0.300000\n",
      "Training error: 0.2558\n",
      "Testing error: 0.3024\n"
     ]
    },
    {
     "name": "stderr",
     "output_type": "stream",
     "text": [
      "/usr/local/lib/python3.6/dist-packages/sklearn/utils/validation.py:724: DataConversionWarning: A column-vector y was passed when a 1d array was expected. Please change the shape of y to (n_samples, ), for example using ravel().\n",
      "  y = column_or_1d(y, warn=True)\n"
     ]
    },
    {
     "name": "stdout",
     "output_type": "stream",
     "text": [
      "Train score: 0.7601 for C 16.000000 and lmbda 0.400000\n",
      "Test score: 0.6960 for C 16.000000 and lmbda 0.400000\n",
      "Training error: 0.2399\n",
      "Testing error: 0.3040\n"
     ]
    },
    {
     "name": "stderr",
     "output_type": "stream",
     "text": [
      "/usr/local/lib/python3.6/dist-packages/sklearn/utils/validation.py:724: DataConversionWarning: A column-vector y was passed when a 1d array was expected. Please change the shape of y to (n_samples, ), for example using ravel().\n",
      "  y = column_or_1d(y, warn=True)\n"
     ]
    },
    {
     "name": "stdout",
     "output_type": "stream",
     "text": [
      "Train score: 0.7731 for C 16.000000 and lmbda 0.500000\n",
      "Test score: 0.6904 for C 16.000000 and lmbda 0.500000\n",
      "Training error: 0.2269\n",
      "Testing error: 0.3096\n"
     ]
    },
    {
     "name": "stderr",
     "output_type": "stream",
     "text": [
      "/usr/local/lib/python3.6/dist-packages/sklearn/utils/validation.py:724: DataConversionWarning: A column-vector y was passed when a 1d array was expected. Please change the shape of y to (n_samples, ), for example using ravel().\n",
      "  y = column_or_1d(y, warn=True)\n"
     ]
    },
    {
     "name": "stdout",
     "output_type": "stream",
     "text": [
      "Train score: 0.7169 for C 32.000000 and lmbda 0.100000\n",
      "Test score: 0.7020 for C 32.000000 and lmbda 0.100000\n",
      "Training error: 0.2831\n",
      "Testing error: 0.2980\n"
     ]
    },
    {
     "name": "stderr",
     "output_type": "stream",
     "text": [
      "/usr/local/lib/python3.6/dist-packages/sklearn/utils/validation.py:724: DataConversionWarning: A column-vector y was passed when a 1d array was expected. Please change the shape of y to (n_samples, ), for example using ravel().\n",
      "  y = column_or_1d(y, warn=True)\n"
     ]
    },
    {
     "name": "stdout",
     "output_type": "stream",
     "text": [
      "Train score: 0.7361 for C 32.000000 and lmbda 0.200000\n",
      "Test score: 0.6986 for C 32.000000 and lmbda 0.200000\n",
      "Training error: 0.2639\n",
      "Testing error: 0.3014\n"
     ]
    },
    {
     "name": "stderr",
     "output_type": "stream",
     "text": [
      "/usr/local/lib/python3.6/dist-packages/sklearn/utils/validation.py:724: DataConversionWarning: A column-vector y was passed when a 1d array was expected. Please change the shape of y to (n_samples, ), for example using ravel().\n",
      "  y = column_or_1d(y, warn=True)\n"
     ]
    },
    {
     "name": "stdout",
     "output_type": "stream",
     "text": [
      "Train score: 0.7536 for C 32.000000 and lmbda 0.300000\n",
      "Test score: 0.6934 for C 32.000000 and lmbda 0.300000\n",
      "Training error: 0.2464\n",
      "Testing error: 0.3066\n"
     ]
    },
    {
     "name": "stderr",
     "output_type": "stream",
     "text": [
      "/usr/local/lib/python3.6/dist-packages/sklearn/utils/validation.py:724: DataConversionWarning: A column-vector y was passed when a 1d array was expected. Please change the shape of y to (n_samples, ), for example using ravel().\n",
      "  y = column_or_1d(y, warn=True)\n"
     ]
    },
    {
     "name": "stdout",
     "output_type": "stream",
     "text": [
      "Train score: 0.7717 for C 32.000000 and lmbda 0.400000\n",
      "Test score: 0.6890 for C 32.000000 and lmbda 0.400000\n",
      "Training error: 0.2283\n",
      "Testing error: 0.3110\n"
     ]
    },
    {
     "name": "stderr",
     "output_type": "stream",
     "text": [
      "/usr/local/lib/python3.6/dist-packages/sklearn/utils/validation.py:724: DataConversionWarning: A column-vector y was passed when a 1d array was expected. Please change the shape of y to (n_samples, ), for example using ravel().\n",
      "  y = column_or_1d(y, warn=True)\n"
     ]
    },
    {
     "name": "stdout",
     "output_type": "stream",
     "text": [
      "Train score: 0.7870 for C 32.000000 and lmbda 0.500000\n",
      "Test score: 0.6806 for C 32.000000 and lmbda 0.500000\n",
      "Training error: 0.2130\n",
      "Testing error: 0.3194\n"
     ]
    },
    {
     "data": {
      "text/plain": [
       "Text(0.5, 1.0, 'Validation error')"
      ]
     },
     "execution_count": 36,
     "metadata": {
      "tags": []
     },
     "output_type": "execute_result"
    },
    {
     "data": {
      "image/png": "[encoded data removed]",
      "text/plain": [
       "<Figure size 432x288 with 2 Axes>"
      ]
     },
     "metadata": {
      "tags": []
     },
     "output_type": "display_data"
    }
   ],
   "source": [
    "CList=(10.0**np.linspace(-1,5,7))\n",
    "lmbdaList=(np.linspace(0.1,0.5,5))\n",
    "\n",
    "bestC,bestLmbda,ErrorMatrix = cross_validation(x_train,y_train,x_val,y_val,'rbf',CList,lmbdaList)\n",
    "\n",
    "plt.pcolormesh(ErrorMatrix, cmap='jet')\n",
    "plt.colorbar()\n",
    "plt.xlabel(\"lmbda_idx\")\n",
    "plt.ylabel(\"C_idx\")\n",
    "plt.title(\"Validation error\")"
   ]
  },
  {
   "cell_type": "code",
   "execution_count": 61,
   "metadata": {
    "colab": {
     "base_uri": "https://localhost:8080/",
     "height": 507
    },
    "colab_type": "code",
    "id": "DpMxTiSRjuBE",
    "outputId": "5af7d421-6c2f-4157-fe32-10399027a21e"
   },
   "outputs": [
    {
     "name": "stdout",
     "output_type": "stream",
     "text": [
      "Feature ranking:\n",
      "1. jvm_memory_pool_bytes_used6 (0.065733)\n",
      "2. jvm_memory_bytes_used5 (0.048745)\n",
      "3. jvm_memory_pool_bytes_used12 (0.048405)\n",
      "4. jvm_memory_pool_bytes_used13 (0.047861)\n",
      "5. gc_g1_young_generation_count0 (0.047612)\n",
      "6. microservices_demo_user_request_count3 (0.046147)\n",
      "7. jvm_memory_bytes_used3 (0.044039)\n",
      "8. jvm_memory_pool_bytes_used7 (0.043490)\n",
      "9. jvm_gc_collection_seconds_count4 (0.043133)\n",
      "10. microservices_demo_user_request_count1 (0.042732)\n",
      "11. microservices_demo_user_request_count2 (0.039642)\n",
      "12. jvm_gc_collection_seconds_count2 (0.033856)\n",
      "13. go_memstats_mallocs_total0 (0.033351)\n",
      "14. go_memstats_last_gc_time_seconds0 (0.032588)\n",
      "15. go_memstats_mallocs_total1 (0.030551)\n",
      "16. gc_g1_young_generation_count2 (0.029241)\n",
      "17. jvm_gc_collection_seconds_count0 (0.028257)\n",
      "18. go_memstats_last_gc_time_seconds1 (0.024593)\n",
      "19. go_memstats_mallocs_total2 (0.024464)\n",
      "20. gc_g1_young_generation_count1 (0.024431)\n",
      "21. microservices_demo_user_request_count0 (0.021469)\n",
      "22. jvm_memory_pool_bytes_used1 (0.021342)\n",
      "23. go_gc_duration_seconds1 (0.021262)\n",
      "24. jvm_classes_loaded0 (0.021087)\n",
      "25. go_gc_duration_seconds3 (0.020147)\n",
      "26. jvm_memory_pool_bytes_used2 (0.018229)\n",
      "27. go_gc_duration_seconds10 (0.016821)\n",
      "28. go_memstats_last_gc_time_seconds2 (0.016317)\n",
      "29. go_gc_duration_seconds11 (0.008425)\n",
      "30. jvm_memory_bytes_used1 (0.006265)\n",
      "31. go_memstats_stack_inuse_bytes0 (0.006251)\n",
      "32. jvm_memory_pool_bytes_used0 (0.005539)\n",
      "33. go_gc_duration_seconds13 (0.004290)\n",
      "34. jvm_memory_pool_bytes_used17 (0.004286)\n",
      "35. go_gc_duration_seconds6 (0.004283)\n",
      "36. go_gc_duration_seconds12 (0.003844)\n",
      "37. jvm_memory_pool_bytes_used11 (0.003645)\n",
      "38. go_gc_duration_seconds7 (0.003478)\n",
      "39. go_gc_duration_seconds8 (0.003216)\n",
      "40. go_gc_duration_seconds2 (0.002508)\n",
      "41. go_gc_duration_seconds9 (0.001546)\n",
      "42. jvm_memory_pool_bytes_used5 (0.000883)\n",
      "43. go_gc_duration_seconds5 (0.000821)\n",
      "44. go_memstats_stack_inuse_bytes2 (0.000771)\n",
      "45. nodejs_heap_size_used_bytes3 (0.000550)\n",
      "46. jvm_memory_pool_bytes_used3 (0.000444)\n",
      "47. go_memstats_heap_alloc_bytes2 (0.000436)\n",
      "48. go_memstats_heap_inuse_bytes1 (0.000303)\n",
      "49. go_memstats_heap_inuse_bytes2 (0.000285)\n",
      "50. heap_used0 (0.000277)\n",
      "51. go_memstats_heap_alloc_bytes0 (0.000238)\n",
      "52. jvm_memory_bytes_used0 (0.000216)\n",
      "53. go_memstats_heap_alloc_bytes1 (0.000212)\n",
      "54. jvm_memory_pool_bytes_used16 (0.000201)\n",
      "55. go_memstats_heap_inuse_bytes0 (0.000196)\n",
      "56. jvm_memory_pool_bytes_committed16 (0.000180)\n",
      "57. heap_used2 (0.000163)\n",
      "58. go_memstats_stack_inuse_bytes1 (0.000128)\n",
      "59. jvm_memory_pool_bytes_used9 (0.000125)\n",
      "60. jvm_memory_pool_bytes_used15 (0.000122)\n",
      "61. jvm_memory_pool_bytes_committed15 (0.000115)\n",
      "62. jvm_memory_bytes_committed3 (0.000107)\n",
      "63. heap_used1 (0.000079)\n",
      "64. jvm_memory_bytes_used4 (0.000027)\n",
      "65. jvm_memory_pool_bytes_used8 (0.000000)\n",
      "66. jvm_memory_pool_bytes_max8 (0.000000)\n",
      "67. gc_g1_old_generation_count1 (0.000000)\n",
      "68. gc_g1_old_generation_count2 (0.000000)\n",
      "69. jvm_memory_pool_bytes_committed17 (0.000000)\n",
      "70. jvm_memory_pool_bytes_max0 (0.000000)\n",
      "71. jvm_memory_pool_bytes_max1 (0.000000)\n",
      "72. jvm_memory_pool_bytes_max2 (0.000000)\n",
      "73. jvm_memory_pool_bytes_max3 (0.000000)\n",
      "74. jvm_memory_pool_bytes_max4 (0.000000)\n",
      "75. jvm_memory_pool_bytes_max5 (0.000000)\n",
      "76. jvm_memory_pool_bytes_max6 (0.000000)\n",
      "77. jvm_memory_pool_bytes_max7 (0.000000)\n",
      "78. jvm_memory_pool_bytes_used14 (0.000000)\n",
      "79. go_gc_duration_seconds0 (0.000000)\n",
      "80. go_gc_duration_seconds4 (0.000000)\n",
      "81. jvm_memory_pool_bytes_max9 (0.000000)\n",
      "82. go_gc_duration_seconds14 (0.000000)\n",
      "83. jvm_memory_pool_bytes_max10 (0.000000)\n",
      "84. jvm_memory_pool_bytes_used10 (0.000000)\n",
      "85. jvm_memory_pool_bytes_max12 (0.000000)\n",
      "86. jvm_memory_pool_bytes_max13 (0.000000)\n",
      "87. jvm_memory_pool_bytes_max14 (0.000000)\n",
      "88. jvm_memory_pool_bytes_max15 (0.000000)\n",
      "89. jvm_memory_pool_bytes_max16 (0.000000)\n",
      "90. jvm_memory_pool_bytes_max17 (0.000000)\n",
      "91. jvm_memory_pool_bytes_used4 (0.000000)\n",
      "92. jvm_memory_pool_bytes_max11 (0.000000)\n",
      "93. jvm_memory_pool_bytes_committed6 (0.000000)\n",
      "94. jvm_memory_pool_bytes_committed5 (0.000000)\n",
      "95. jvm_memory_bytes_used2 (0.000000)\n",
      "96. jvm_memory_bytes_max2 (0.000000)\n",
      "97. jvm_memory_bytes_max3 (0.000000)\n",
      "98. jvm_memory_bytes_max4 (0.000000)\n",
      "99. jvm_memory_bytes_max5 (0.000000)\n",
      "100. jvm_memory_pool_bytes_committed10 (0.000000)\n",
      "101. jvm_memory_pool_bytes_committed9 (0.000000)\n",
      "102. jvm_memory_pool_bytes_committed8 (0.000000)\n",
      "103. jvm_memory_bytes_max0 (0.000000)\n",
      "104. jvm_memory_pool_bytes_committed7 (0.000000)\n",
      "105. jvm_memory_pool_bytes_committed0 (0.000000)\n",
      "106. jvm_memory_pool_bytes_committed1 (0.000000)\n",
      "107. jvm_memory_pool_bytes_committed2 (0.000000)\n",
      "108. jvm_memory_pool_bytes_committed3 (0.000000)\n",
      "109. jvm_memory_pool_bytes_committed4 (0.000000)\n",
      "110. jvm_memory_bytes_max1 (0.000000)\n",
      "111. jvm_memory_bytes_committed5 (0.000000)\n",
      "112. httpsessions_active0 (0.000000)\n",
      "113. jvm_gc_collection_seconds_count1 (0.000000)\n",
      "114. httpsessions_active1 (0.000000)\n",
      "115. httpsessions_active2 (0.000000)\n",
      "116. jvm_memory_pool_bytes_committed14 (0.000000)\n",
      "117. jvm_classes_loaded1 (0.000000)\n",
      "118. jvm_classes_loaded2 (0.000000)\n",
      "119. jvm_memory_pool_bytes_committed13 (0.000000)\n",
      "120. jvm_memory_pool_bytes_committed12 (0.000000)\n",
      "121. jvm_memory_bytes_committed4 (0.000000)\n",
      "122. jvm_gc_collection_seconds_count3 (0.000000)\n",
      "123. jvm_memory_pool_bytes_committed11 (0.000000)\n",
      "124. jvm_gc_collection_seconds_count5 (0.000000)\n",
      "125. jvm_memory_bytes_committed0 (0.000000)\n",
      "126. jvm_memory_bytes_committed1 (0.000000)\n",
      "127. jvm_memory_bytes_committed2 (0.000000)\n",
      "128. gc_g1_old_generation_count0 (0.000000)\n"
     ]
    },
    {
     "data": {
      "image/png": "[encoded data removed]",
      "text/plain": [
       "<Figure size 432x288 with 1 Axes>"
      ]
     },
     "metadata": {
      "needs_background": "light"
     },
     "output_type": "display_data"
    }
   ],
   "source": [
    "from sklearn.datasets import make_classification\n",
    "from sklearn.ensemble import ExtraTreesClassifier\n",
    "\n",
    "# Build a classification task using 3 informative features\n",
    "X, y = make_classification(n_samples=127,\n",
    "                           n_features=128,\n",
    "                           n_informative=4,\n",
    "                           n_redundant=0,\n",
    "                           n_repeated=0,\n",
    "                           n_classes=2,\n",
    "                           random_state=0,\n",
    "                           shuffle=False)\n",
    "\n",
    "# Build a forest and compute the feature importances\n",
    "forest = ExtraTreesClassifier(n_estimators=250,\n",
    "                              random_state=0)\n",
    "\n",
    "forest.fit(X_train , y_train)\n",
    "importances = forest.feature_importances_\n",
    "std = np.std([tree.feature_importances_ for tree in forest.estimators_],\n",
    "             axis=0)\n",
    "indices = np.argsort(importances)[::-1]\n",
    "\n",
    "# Print the feature ranking\n",
    "print(\"Feature ranking:\")\n",
    "\n",
    "for f in range(X.shape[1]):\n",
    "    print(\"%d. %s (%f)\" % (f + 1, final_list_of_features[indices[f]] , importances[indices[f]] ))\n",
    "\n",
    "# Plot the feature importances of the forest\n",
    "plt.figure()\n",
    "plt.title(\"Feature importances\")\n",
    "plt.bar(range(X.shape[1]), importances[indices],\n",
    "       color=\"r\", yerr=std[indices], align=\"center\")\n",
    "plt.xticks(range(X.shape[1]), indices)\n",
    "# plt.xlim([-1, X.shape[1]])\n",
    "plt.show()"
   ]
  },
  {
   "cell_type": "code",
   "execution_count": 0,
   "metadata": {
    "colab": {},
    "colab_type": "code",
    "id": "B8_Jx1BBkWFD"
   },
   "outputs": [],
   "source": [
    "# EVI, NDVI , ARVI, Mean_R , Mean_G, Mean_B , Mean_H , Mean_S, Mean_V , Mean_NIR , Std_NIR\n",
    "# plt.figure()\n",
    "# plt.title(\"Feature importances\")\n",
    "# plt.bar(range(X.shape[1]), importances[indices],\n",
    "#        color=\"r\", yerr=std[indices], align=\"center\")\n",
    "# plt.xticks(range(X.shape[1]), [ \"Std_NIR\" , \"Mean_NIR\"  ,  \"ARVI\"  , \"Mean_R\" ,  \"NDVI\" ,  \"EVI\" , \"Mean_S\" ,  \"Mean_V\" , \"Mean_H\" ,    \"Mean_G\" , \"Mean_B\" ] , rotation='vertical')\n",
    "# plt.xlim([-1, X.shape[1]])\n",
    "# plt.show()"
   ]
  },
  {
   "cell_type": "code",
   "execution_count": 95,
   "metadata": {},
   "outputs": [
    {
     "name": "stdout",
     "output_type": "stream",
     "text": [
      "Train score: 0.6849\n"
     ]
    }
   ],
   "source": [
    "from sklearn.ensemble import AdaBoostClassifier\n",
    "clf = AdaBoostClassifier(n_estimators=100, random_state=0)\n",
    "clf.fit(x_train , y_train.flatten())\n",
    "score = clf.score(x_train , y_train)\n",
    "print(\"Train score: %.4f\" % score)"
   ]
  },
  {
   "cell_type": "code",
   "execution_count": 1,
   "metadata": {},
   "outputs": [
    {
     "ename": "KeyboardInterrupt",
     "evalue": "",
     "output_type": "error",
     "traceback": [
      "\u001b[0;31m---------------------------------------------------------------------------\u001b[0m",
      "\u001b[0;31mKeyboardInterrupt\u001b[0m                         Traceback (most recent call last)",
      "\u001b[0;32m<ipython-input-1-2b5389c5a6f3>\u001b[0m in \u001b[0;36m<module>\u001b[0;34m()\u001b[0m\n\u001b[1;32m      1\u001b[0m \u001b[0;32mwhile\u001b[0m \u001b[0;34m(\u001b[0m\u001b[0;32mTrue\u001b[0m\u001b[0;34m)\u001b[0m\u001b[0;34m:\u001b[0m\u001b[0;34m\u001b[0m\u001b[0;34m\u001b[0m\u001b[0m\n\u001b[0;32m----> 2\u001b[0;31m     \u001b[0;32mpass\u001b[0m\u001b[0;34m\u001b[0m\u001b[0;34m\u001b[0m\u001b[0m\n\u001b[0m",
      "\u001b[0;31mKeyboardInterrupt\u001b[0m: "
     ]
    }
   ],
   "source": []
  },
  {
   "cell_type": "code",
   "execution_count": 300,
   "metadata": {
    "colab": {},
    "colab_type": "code",
    "id": "qz6UIOTcz9bj"
   },
   "outputs": [
    {
     "ename": "ValueError",
     "evalue": "Unknown label type: (array([0.02229198, 0.01611119]),)",
     "output_type": "error",
     "traceback": [
      "\u001b[0;31m---------------------------------------------------------------------------\u001b[0m",
      "\u001b[0;31mValueError\u001b[0m                                Traceback (most recent call last)",
      "\u001b[0;32m<ipython-input-300-d7286f699514>\u001b[0m in \u001b[0;36m<module>\u001b[0;34m()\u001b[0m\n\u001b[1;32m      4\u001b[0m                     solver = 'adam' , verbose = True , random_state = 1 )\n\u001b[1;32m      5\u001b[0m \u001b[0;34m\u001b[0m\u001b[0m\n\u001b[0;32m----> 6\u001b[0;31m \u001b[0mclf\u001b[0m\u001b[0;34m.\u001b[0m\u001b[0mfit\u001b[0m\u001b[0;34m(\u001b[0m \u001b[0mX_train\u001b[0m \u001b[0;34m,\u001b[0m \u001b[0my_train\u001b[0m \u001b[0;34m)\u001b[0m\u001b[0;34m\u001b[0m\u001b[0;34m\u001b[0m\u001b[0m\n\u001b[0m\u001b[1;32m      7\u001b[0m \u001b[0mscore\u001b[0m \u001b[0;34m=\u001b[0m \u001b[0mclf\u001b[0m\u001b[0;34m.\u001b[0m\u001b[0mscore\u001b[0m\u001b[0;34m(\u001b[0m\u001b[0mx_train\u001b[0m \u001b[0;34m,\u001b[0m \u001b[0my_train\u001b[0m\u001b[0;34m)\u001b[0m\u001b[0;34m\u001b[0m\u001b[0;34m\u001b[0m\u001b[0m\n\u001b[1;32m      8\u001b[0m \u001b[0mprint\u001b[0m\u001b[0;34m(\u001b[0m\u001b[0;34m\"Test score: %.4f\"\u001b[0m \u001b[0;34m%\u001b[0m \u001b[0mscore\u001b[0m\u001b[0;34m)\u001b[0m\u001b[0;34m\u001b[0m\u001b[0;34m\u001b[0m\u001b[0m\n",
      "\u001b[0;32m/home/no10/.local/lib/python3.7/site-packages/sklearn/neural_network/multilayer_perceptron.py\u001b[0m in \u001b[0;36mfit\u001b[0;34m(self, X, y)\u001b[0m\n\u001b[1;32m    980\u001b[0m         \"\"\"\n\u001b[1;32m    981\u001b[0m         return self._fit(X, y, incremental=(self.warm_start and\n\u001b[0;32m--> 982\u001b[0;31m                                             hasattr(self, \"classes_\")))\n\u001b[0m\u001b[1;32m    983\u001b[0m \u001b[0;34m\u001b[0m\u001b[0m\n\u001b[1;32m    984\u001b[0m     \u001b[0;34m@\u001b[0m\u001b[0mproperty\u001b[0m\u001b[0;34m\u001b[0m\u001b[0;34m\u001b[0m\u001b[0m\n",
      "\u001b[0;32m/home/no10/.local/lib/python3.7/site-packages/sklearn/neural_network/multilayer_perceptron.py\u001b[0m in \u001b[0;36m_fit\u001b[0;34m(self, X, y, incremental)\u001b[0m\n\u001b[1;32m    321\u001b[0m                              hidden_layer_sizes)\n\u001b[1;32m    322\u001b[0m \u001b[0;34m\u001b[0m\u001b[0m\n\u001b[0;32m--> 323\u001b[0;31m         \u001b[0mX\u001b[0m\u001b[0;34m,\u001b[0m \u001b[0my\u001b[0m \u001b[0;34m=\u001b[0m \u001b[0mself\u001b[0m\u001b[0;34m.\u001b[0m\u001b[0m_validate_input\u001b[0m\u001b[0;34m(\u001b[0m\u001b[0mX\u001b[0m\u001b[0;34m,\u001b[0m \u001b[0my\u001b[0m\u001b[0;34m,\u001b[0m \u001b[0mincremental\u001b[0m\u001b[0;34m)\u001b[0m\u001b[0;34m\u001b[0m\u001b[0;34m\u001b[0m\u001b[0m\n\u001b[0m\u001b[1;32m    324\u001b[0m         \u001b[0mn_samples\u001b[0m\u001b[0;34m,\u001b[0m \u001b[0mn_features\u001b[0m \u001b[0;34m=\u001b[0m \u001b[0mX\u001b[0m\u001b[0;34m.\u001b[0m\u001b[0mshape\u001b[0m\u001b[0;34m\u001b[0m\u001b[0;34m\u001b[0m\u001b[0m\n\u001b[1;32m    325\u001b[0m \u001b[0;34m\u001b[0m\u001b[0m\n",
      "\u001b[0;32m/home/no10/.local/lib/python3.7/site-packages/sklearn/neural_network/multilayer_perceptron.py\u001b[0m in \u001b[0;36m_validate_input\u001b[0;34m(self, X, y, incremental)\u001b[0m\n\u001b[1;32m    923\u001b[0m         \u001b[0;32mif\u001b[0m \u001b[0;32mnot\u001b[0m \u001b[0mincremental\u001b[0m\u001b[0;34m:\u001b[0m\u001b[0;34m\u001b[0m\u001b[0;34m\u001b[0m\u001b[0m\n\u001b[1;32m    924\u001b[0m             \u001b[0mself\u001b[0m\u001b[0;34m.\u001b[0m\u001b[0m_label_binarizer\u001b[0m \u001b[0;34m=\u001b[0m \u001b[0mLabelBinarizer\u001b[0m\u001b[0;34m(\u001b[0m\u001b[0;34m)\u001b[0m\u001b[0;34m\u001b[0m\u001b[0;34m\u001b[0m\u001b[0m\n\u001b[0;32m--> 925\u001b[0;31m             \u001b[0mself\u001b[0m\u001b[0;34m.\u001b[0m\u001b[0m_label_binarizer\u001b[0m\u001b[0;34m.\u001b[0m\u001b[0mfit\u001b[0m\u001b[0;34m(\u001b[0m\u001b[0my\u001b[0m\u001b[0;34m)\u001b[0m\u001b[0;34m\u001b[0m\u001b[0;34m\u001b[0m\u001b[0m\n\u001b[0m\u001b[1;32m    926\u001b[0m             \u001b[0mself\u001b[0m\u001b[0;34m.\u001b[0m\u001b[0mclasses_\u001b[0m \u001b[0;34m=\u001b[0m \u001b[0mself\u001b[0m\u001b[0;34m.\u001b[0m\u001b[0m_label_binarizer\u001b[0m\u001b[0;34m.\u001b[0m\u001b[0mclasses_\u001b[0m\u001b[0;34m\u001b[0m\u001b[0;34m\u001b[0m\u001b[0m\n\u001b[1;32m    927\u001b[0m         \u001b[0;32melif\u001b[0m \u001b[0mself\u001b[0m\u001b[0;34m.\u001b[0m\u001b[0mwarm_start\u001b[0m\u001b[0;34m:\u001b[0m\u001b[0;34m\u001b[0m\u001b[0;34m\u001b[0m\u001b[0m\n",
      "\u001b[0;32m/home/no10/.local/lib/python3.7/site-packages/sklearn/preprocessing/label.py\u001b[0m in \u001b[0;36mfit\u001b[0;34m(self, y)\u001b[0m\n\u001b[1;32m    414\u001b[0m \u001b[0;34m\u001b[0m\u001b[0m\n\u001b[1;32m    415\u001b[0m         \u001b[0mself\u001b[0m\u001b[0;34m.\u001b[0m\u001b[0msparse_input_\u001b[0m \u001b[0;34m=\u001b[0m \u001b[0msp\u001b[0m\u001b[0;34m.\u001b[0m\u001b[0missparse\u001b[0m\u001b[0;34m(\u001b[0m\u001b[0my\u001b[0m\u001b[0;34m)\u001b[0m\u001b[0;34m\u001b[0m\u001b[0;34m\u001b[0m\u001b[0m\n\u001b[0;32m--> 416\u001b[0;31m         \u001b[0mself\u001b[0m\u001b[0;34m.\u001b[0m\u001b[0mclasses_\u001b[0m \u001b[0;34m=\u001b[0m \u001b[0munique_labels\u001b[0m\u001b[0;34m(\u001b[0m\u001b[0my\u001b[0m\u001b[0;34m)\u001b[0m\u001b[0;34m\u001b[0m\u001b[0;34m\u001b[0m\u001b[0m\n\u001b[0m\u001b[1;32m    417\u001b[0m         \u001b[0;32mreturn\u001b[0m \u001b[0mself\u001b[0m\u001b[0;34m\u001b[0m\u001b[0;34m\u001b[0m\u001b[0m\n\u001b[1;32m    418\u001b[0m \u001b[0;34m\u001b[0m\u001b[0m\n",
      "\u001b[0;32m/home/no10/.local/lib/python3.7/site-packages/sklearn/utils/multiclass.py\u001b[0m in \u001b[0;36munique_labels\u001b[0;34m(*ys)\u001b[0m\n\u001b[1;32m     92\u001b[0m     \u001b[0m_unique_labels\u001b[0m \u001b[0;34m=\u001b[0m \u001b[0m_FN_UNIQUE_LABELS\u001b[0m\u001b[0;34m.\u001b[0m\u001b[0mget\u001b[0m\u001b[0;34m(\u001b[0m\u001b[0mlabel_type\u001b[0m\u001b[0;34m,\u001b[0m \u001b[0;32mNone\u001b[0m\u001b[0;34m)\u001b[0m\u001b[0;34m\u001b[0m\u001b[0;34m\u001b[0m\u001b[0m\n\u001b[1;32m     93\u001b[0m     \u001b[0;32mif\u001b[0m \u001b[0;32mnot\u001b[0m \u001b[0m_unique_labels\u001b[0m\u001b[0;34m:\u001b[0m\u001b[0;34m\u001b[0m\u001b[0;34m\u001b[0m\u001b[0m\n\u001b[0;32m---> 94\u001b[0;31m         \u001b[0;32mraise\u001b[0m \u001b[0mValueError\u001b[0m\u001b[0;34m(\u001b[0m\u001b[0;34m\"Unknown label type: %s\"\u001b[0m \u001b[0;34m%\u001b[0m \u001b[0mrepr\u001b[0m\u001b[0;34m(\u001b[0m\u001b[0mys\u001b[0m\u001b[0;34m)\u001b[0m\u001b[0;34m)\u001b[0m\u001b[0;34m\u001b[0m\u001b[0;34m\u001b[0m\u001b[0m\n\u001b[0m\u001b[1;32m     95\u001b[0m \u001b[0;34m\u001b[0m\u001b[0m\n\u001b[1;32m     96\u001b[0m     \u001b[0mys_labels\u001b[0m \u001b[0;34m=\u001b[0m \u001b[0mset\u001b[0m\u001b[0;34m(\u001b[0m\u001b[0mchain\u001b[0m\u001b[0;34m.\u001b[0m\u001b[0mfrom_iterable\u001b[0m\u001b[0;34m(\u001b[0m\u001b[0m_unique_labels\u001b[0m\u001b[0;34m(\u001b[0m\u001b[0my\u001b[0m\u001b[0;34m)\u001b[0m \u001b[0;32mfor\u001b[0m \u001b[0my\u001b[0m \u001b[0;32min\u001b[0m \u001b[0mys\u001b[0m\u001b[0;34m)\u001b[0m\u001b[0;34m)\u001b[0m\u001b[0;34m\u001b[0m\u001b[0;34m\u001b[0m\u001b[0m\n",
      "\u001b[0;31mValueError\u001b[0m: Unknown label type: (array([0.02229198, 0.01611119]),)"
     ]
    }
   ],
   "source": [
    "from sklearn.neural_network import MLPClassifier\n",
    "\n",
    "clf = MLPClassifier( hidden_layer_sizes = (500,50) ,activation = 'relu', validation_fraction = 0.1,\n",
    "                    solver = 'adam' , verbose = True , random_state = 1 )\n",
    "\n",
    "clf.fit( X_train , y_train )\n",
    "score = clf.score(x_train , y_train)\n",
    "print(\"Test score: %.4f\" % score)\n",
    "\n"
   ]
  },
  {
   "cell_type": "code",
   "execution_count": 55,
   "metadata": {
    "colab": {},
    "colab_type": "code",
    "id": "KMRpHKGHz9ni"
   },
   "outputs": [
    {
     "name": "stdout",
     "output_type": "stream",
     "text": [
      "Test score: 0.7299\n"
     ]
    }
   ],
   "source": [
    "score = clf.score(x_test , y_test)\n",
    "print(\"Test score: %.4f\" % score)"
   ]
  }
 ],
 "metadata": {
  "accelerator": "TPU",
  "colab": {
   "collapsed_sections": [],
   "machine_shape": "hm",
   "name": "train.ipynb",
   "provenance": []
  },
  "kernelspec": {
   "display_name": "Python 3",
   "language": "python",
   "name": "python3"
  },
  "language_info": {
   "codemirror_mode": {
    "name": "ipython",
    "version": 3
   },
   "file_extension": ".py",
   "mimetype": "text/x-python",
   "name": "python",
   "nbconvert_exporter": "python",
   "pygments_lexer": "ipython3",
   "version": "3.7.5"
  }
 },
 "nbformat": 4,
 "nbformat_minor": 1
}
